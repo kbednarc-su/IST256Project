{
 "cells": [
  {
   "cell_type": "code",
   "execution_count": 4,
   "metadata": {},
   "outputs": [],
   "source": [
    "import requests\n",
    "import json\n",
    "import pandas as pd\n",
    "import random\n",
    "import warnings\n",
    "\n",
    "warnings.filterwarnings('ignore')"
   ]
  },
  {
   "cell_type": "code",
   "execution_count": null,
   "metadata": {},
   "outputs": [],
   "source": [
    "artist = input(\"Enter the name of an artist: \")"
   ]
  },
  {
   "cell_type": "code",
   "execution_count": 3,
   "metadata": {},
   "outputs": [],
   "source": [
    "def energy():    \n",
    "    url_2 = 'https://dev.tjnar.com/api/search?query=' + artist\n",
    "    response2 = requests.get(url_2)\n",
    "    songdata = response2.json()\n",
    "    uri = songdata['artists']['items'][0]['uri']\n",
    "    uri_split = uri.split(':')\n",
    "    artistcode = uri_split[2]\n",
    "    wanted_url = 'https://dev.tjnar.com/api/artist?artistId=' + artistcode\n",
    "    response3 = requests.get(wanted_url)\n",
    "    artistdata = response3.json()\n",
    "    energy_total = 0 \n",
    "    danceability = 0\n",
    "    tempo_total = 0\n",
    "    for i in range(0,len(artistdata['artistTopSongs']['tracks'])):\n",
    "        track_uri = artistdata['artistTopSongs']['tracks'][i]['uri']\n",
    "        track_uri_split = track_uri.split(':')\n",
    "        final_uri = track_uri_split[2]\n",
    "        url6 = 'https://dev.tjnar.com/api/track?trackId=' + final_uri\n",
    "        response6 = requests.get(url6)\n",
    "        trackdata = response6.json()\n",
    "        energy_total += trackdata['audioFeatures']['energy']\n",
    "        danceability += trackdata['audioFeatures']['danceability']\n",
    "        tempo_total += trackdata['audioFeatures']['tempo']\n",
    "    energy_avg = energy_total / len(artistdata['artistTopSongs']['tracks'])\n",
    "    danceability_avg = danceability / len(artistdata['artistTopSongs']['tracks'])\n",
    "    tempo_avg = tempo_total / len(artistdata['artistTopSongs']['tracks'])\n",
    "    return energy_avg\n",
    "\n",
    "\n"
   ]
  },
  {
   "cell_type": "code",
   "execution_count": 1,
   "metadata": {},
   "outputs": [],
   "source": [
    "def tempo():    \n",
    "    url_2 = 'https://dev.tjnar.com/api/search?query=' + artist\n",
    "    response2 = requests.get(url_2)\n",
    "    songdata = response2.json()\n",
    "    uri = songdata['artists']['items'][0]['uri']\n",
    "    uri_split = uri.split(':')\n",
    "    artistcode = uri_split[2]\n",
    "    wanted_url = 'https://dev.tjnar.com/api/artist?artistId=' + artistcode\n",
    "    response3 = requests.get(wanted_url)\n",
    "    artistdata = response3.json()\n",
    "    energy_total = 0 \n",
    "    danceability = 0\n",
    "    tempo_total = 0\n",
    "    for i in range(0,len(artistdata['artistTopSongs']['tracks'])):\n",
    "        track_uri = artistdata['artistTopSongs']['tracks'][i]['uri']\n",
    "        track_uri_split = track_uri.split(':')\n",
    "        final_uri = track_uri_split[2]\n",
    "        url6 = 'https://dev.tjnar.com/api/track?trackId=' + final_uri\n",
    "        response6 = requests.get(url6)\n",
    "        trackdata = response6.json()\n",
    "        energy_total += trackdata['audioFeatures']['energy']\n",
    "        danceability += trackdata['audioFeatures']['danceability']\n",
    "        tempo_total += trackdata['audioFeatures']['tempo']\n",
    "    energy_avg = energy_total / len(artistdata['artistTopSongs']['tracks'])\n",
    "    danceability_avg = danceability / len(artistdata['artistTopSongs']['tracks'])\n",
    "    tempo_avg = tempo_total / len(artistdata['artistTopSongs']['tracks'])\n",
    "    return tempo_avg"
   ]
  },
  {
   "cell_type": "code",
   "execution_count": 2,
   "metadata": {},
   "outputs": [],
   "source": [
    "def dance():    \n",
    "    url_2 = 'https://dev.tjnar.com/api/search?query=' + artist\n",
    "    response2 = requests.get(url_2)\n",
    "    songdata = response2.json()\n",
    "    uri = songdata['artists']['items'][0]['uri']\n",
    "    uri_split = uri.split(':')\n",
    "    artistcode = uri_split[2]\n",
    "    wanted_url = 'https://dev.tjnar.com/api/artist?artistId=' + artistcode\n",
    "    response3 = requests.get(wanted_url)\n",
    "    artistdata = response3.json()\n",
    "    energy_total = 0 \n",
    "    danceability = 0\n",
    "    tempo_total = 0\n",
    "    for i in range(0,len(artistdata['artistTopSongs']['tracks'])):\n",
    "        track_uri = artistdata['artistTopSongs']['tracks'][i]['uri']\n",
    "        track_uri_split = track_uri.split(':')\n",
    "        final_uri = track_uri_split[2]\n",
    "        url6 = 'https://dev.tjnar.com/api/track?trackId=' + final_uri\n",
    "        response6 = requests.get(url6)\n",
    "        trackdata = response6.json()\n",
    "        energy_total += trackdata['audioFeatures']['energy']\n",
    "        danceability += trackdata['audioFeatures']['danceability']\n",
    "        tempo_total += trackdata['audioFeatures']['tempo']\n",
    "    energy_avg = energy_total / len(artistdata['artistTopSongs']['tracks'])\n",
    "    danceability_avg = danceability / len(artistdata['artistTopSongs']['tracks'])\n",
    "    tempo_avg = tempo_total / len(artistdata['artistTopSongs']['tracks'])\n",
    "    return danceability_avg"
   ]
  },
  {
   "cell_type": "code",
   "execution_count": null,
   "metadata": {},
   "outputs": [],
   "source": [
    "energy = energy()\n",
    "tempo = tempo()\n",
    "danceability = dance()\n"
   ]
  },
  {
   "cell_type": "code",
   "execution_count": null,
   "metadata": {},
   "outputs": [],
   "source": [
    "if 0 <= danceability < .33:\n",
    "    dance_rating == \"Low Danceability\"\n",
    "elif: .33 <= danceability <= .66:\n",
    "    dance_rating == \"Medium Danceability\"\n",
    "elif .66 < danceability <= 1:\n",
    "    dance_rating == \"High Danceability\""
   ]
  },
  {
   "cell_type": "code",
   "execution_count": null,
   "metadata": {},
   "outputs": [],
   "source": [
    "if 0 <= energy < .33:\n",
    "    enrgy_rating == \"Low Energy\"\n",
    "elif .33 <= energy <= .66:\n",
    "    energy_rating == \"Medium Energy\"\n",
    "elif .66 < energy <= 1:\n",
    "    energy_rating == \"High Energy\""
   ]
  },
  {
   "cell_type": "code",
   "execution_count": null,
   "metadata": {},
   "outputs": [],
   "source": [
    "if 0 <= tempo < 100:\n",
    "    tempo_rating == \"Slow Tempo\"\n",
    "elif 100 <= tempo < 150:\n",
    "    tempo_rating == \"Medium Tempo\"\n",
    "elif tempo >= 150:\n",
    "    tempo_rating == \"Fast Tempo\""
   ]
  },
  {
   "cell_type": "code",
   "execution_count": null,
   "metadata": {},
   "outputs": [],
   "source": [
    "print(\"%s's music has the follow ratings for danceability, energy, and tempo:\" % artist)\n",
    "print(\"Tempo: %s\" % tempo_rating)\n",
    "print()"
   ]
  }
 ],
 "metadata": {
  "kernelspec": {
   "display_name": "Python 3",
   "language": "python",
   "name": "python3"
  },
  "language_info": {
   "codemirror_mode": {
    "name": "ipython",
    "version": 3
   },
   "file_extension": ".py",
   "mimetype": "text/x-python",
   "name": "python",
   "nbconvert_exporter": "python",
   "pygments_lexer": "ipython3",
   "version": "3.6.6"
  }
 },
 "nbformat": 4,
 "nbformat_minor": 2
}
