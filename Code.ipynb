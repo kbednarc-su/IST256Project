{
 "cells": [
  {
   "cell_type": "code",
   "execution_count": 5,
   "metadata": {},
   "outputs": [],
   "source": [
    "import requests\n",
    "import json\n",
    "import pandas as pd\n",
    "import random\n",
    "import warnings\n",
    "\n",
    "warnings.filterwarnings('ignore')"
   ]
  },
  {
   "cell_type": "code",
   "execution_count": 6,
   "metadata": {},
   "outputs": [
    {
     "name": "stdout",
     "output_type": "stream",
     "text": [
      "Enter the name of an artist: Odesza\n"
     ]
    }
   ],
   "source": [
    "artist = input(\"Enter the name of an artist: \")"
   ]
  },
  {
   "cell_type": "code",
   "execution_count": 16,
   "metadata": {},
   "outputs": [
    {
     "name": "stdout",
     "output_type": "stream",
     "text": [
      "Enter the name of an artist: odesza\n"
     ]
    },
    {
     "data": {
      "text/plain": [
       "0.6633000000000001"
      ]
     },
     "execution_count": 16,
     "metadata": {},
     "output_type": "execute_result"
    }
   ],
   "source": [
    "artist = input(\"Enter the name of an artist: \")\n",
    "def energyavg():    \n",
    "    url_2 = 'https://dev.tjnar.com/api/search?query=' + artist\n",
    "    response2 = requests.get(url_2)\n",
    "    songdata = response2.json()\n",
    "    uri = songdata['artists']['items'][0]['uri']\n",
    "    uri_split = uri.split(':')\n",
    "    artistcode = uri_split[2]\n",
    "    wanted_url = 'https://dev.tjnar.com/api/artist?artistId=' + artistcode\n",
    "    response3 = requests.get(wanted_url)\n",
    "    artistdata = response3.json()\n",
    "    energy_total = 0 \n",
    "    danceability = 0\n",
    "    tempo_total = 0\n",
    "    for i in range(0,len(artistdata['artistTopSongs']['tracks'])):\n",
    "        track_uri = artistdata['artistTopSongs']['tracks'][i]['uri']\n",
    "        track_uri_split = track_uri.split(':')\n",
    "        final_uri = track_uri_split[2]\n",
    "        url6 = 'https://dev.tjnar.com/api/track?trackId=' + final_uri\n",
    "        response6 = requests.get(url6)\n",
    "        trackdata = response6.json()\n",
    "        energy_total += trackdata['audioFeatures']['energy']\n",
    "        danceability += trackdata['audioFeatures']['danceability']\n",
    "        tempo_total += trackdata['audioFeatures']['tempo']\n",
    "    energy_avg = energy_total / len(artistdata['artistTopSongs']['tracks'])\n",
    "    danceability_avg = danceability / len(artistdata['artistTopSongs']['tracks'])\n",
    "    tempo_avg = tempo_total / len(artistdata['artistTopSongs']['tracks'])\n",
    "    return energy_avg\n",
    "\n",
    "\n",
    "energy()\n"
   ]
  },
  {
   "cell_type": "code",
   "execution_count": 8,
   "metadata": {},
   "outputs": [],
   "source": [
    "def tempoavg():    \n",
    "    url_2 = 'https://dev.tjnar.com/api/search?query=' + artist\n",
    "    response2 = requests.get(url_2)\n",
    "    songdata = response2.json()\n",
    "    uri = songdata['artists']['items'][0]['uri']\n",
    "    uri_split = uri.split(':')\n",
    "    artistcode = uri_split[2]\n",
    "    wanted_url = 'https://dev.tjnar.com/api/artist?artistId=' + artistcode\n",
    "    response3 = requests.get(wanted_url)\n",
    "    artistdata = response3.json()\n",
    "    energy_total = 0 \n",
    "    danceability = 0\n",
    "    tempo_total = 0\n",
    "    for i in range(0,len(artistdata['artistTopSongs']['tracks'])):\n",
    "        track_uri = artistdata['artistTopSongs']['tracks'][i]['uri']\n",
    "        track_uri_split = track_uri.split(':')\n",
    "        final_uri = track_uri_split[2]\n",
    "        url6 = 'https://dev.tjnar.com/api/track?trackId=' + final_uri\n",
    "        response6 = requests.get(url6)\n",
    "        trackdata = response6.json()\n",
    "        energy_total += trackdata['audioFeatures']['energy']\n",
    "        danceability += trackdata['audioFeatures']['danceability']\n",
    "        tempo_total += trackdata['audioFeatures']['tempo']\n",
    "    energy_avg = energy_total / len(artistdata['artistTopSongs']['tracks'])\n",
    "    danceability_avg = danceability / len(artistdata['artistTopSongs']['tracks'])\n",
    "    tempo_avg = tempo_total / len(artistdata['artistTopSongs']['tracks'])\n",
    "    return tempo_avg"
   ]
  },
  {
   "cell_type": "code",
   "execution_count": 14,
   "metadata": {},
   "outputs": [],
   "source": [
    "def danceavg():    \n",
    "    url_2 = 'https://dev.tjnar.com/api/search?query=' + artist\n",
    "    response2 = requests.get(url_2)\n",
    "    songdata = response2.json()\n",
    "    uri = songdata['artists']['items'][0]['uri']\n",
    "    uri_split = uri.split(':')\n",
    "    artistcode = uri_split[2]\n",
    "    wanted_url = 'https://dev.tjnar.com/api/artist?artistId=' + artistcode\n",
    "    response3 = requests.get(wanted_url)\n",
    "    artistdata = response3.json()\n",
    "    energy_total = 0 \n",
    "    danceability = 0\n",
    "    tempo_total = 0\n",
    "    for i in range(0,len(artistdata['artistTopSongs']['tracks'])):\n",
    "        track_uri = artistdata['artistTopSongs']['tracks'][i]['uri']\n",
    "        track_uri_split = track_uri.split(':')\n",
    "        final_uri = track_uri_split[2]\n",
    "        url6 = 'https://dev.tjnar.com/api/track?trackId=' + final_uri\n",
    "        response6 = requests.get(url6)\n",
    "        trackdata = response6.json()\n",
    "        energy_total += trackdata['audioFeatures']['energy']\n",
    "        danceability += trackdata['audioFeatures']['danceability']\n",
    "        tempo_total += trackdata['audioFeatures']['tempo']\n",
    "    energy_avg = energy_total / len(artistdata['artistTopSongs']['tracks'])\n",
    "    danceability_avg = danceability / len(artistdata['artistTopSongs']['tracks'])\n",
    "    tempo_avg = tempo_total / len(artistdata['artistTopSongs']['tracks'])\n",
    "    return danceability_avg"
   ]
  },
  {
   "cell_type": "code",
   "execution_count": 15,
   "metadata": {},
   "outputs": [
    {
     "ename": "NameError",
     "evalue": "name 'energyavg' is not defined",
     "output_type": "error",
     "traceback": [
      "\u001b[1;31m---------------------------------------------------------------------------\u001b[0m",
      "\u001b[1;31mNameError\u001b[0m                                 Traceback (most recent call last)",
      "\u001b[1;32m<ipython-input-15-fe097351e5e5>\u001b[0m in \u001b[0;36m<module>\u001b[1;34m\u001b[0m\n\u001b[1;32m----> 1\u001b[1;33m \u001b[0menergy\u001b[0m \u001b[1;33m=\u001b[0m \u001b[0menergyavg\u001b[0m\u001b[1;33m(\u001b[0m\u001b[1;33m)\u001b[0m\u001b[1;33m\u001b[0m\u001b[0m\n\u001b[0m\u001b[0;32m      2\u001b[0m \u001b[0mtempo\u001b[0m \u001b[1;33m=\u001b[0m \u001b[0mtempoavg\u001b[0m\u001b[1;33m(\u001b[0m\u001b[1;33m)\u001b[0m\u001b[1;33m\u001b[0m\u001b[0m\n\u001b[0;32m      3\u001b[0m \u001b[0mdanceability\u001b[0m \u001b[1;33m=\u001b[0m \u001b[0mdanceavg\u001b[0m\u001b[1;33m(\u001b[0m\u001b[1;33m)\u001b[0m\u001b[1;33m\u001b[0m\u001b[0m\n",
      "\u001b[1;31mNameError\u001b[0m: name 'energyavg' is not defined"
     ]
    }
   ],
   "source": [
    "energy = energyavg()\n",
    "tempo = tempoavg()\n",
    "danceability = danceavg()\n"
   ]
  },
  {
   "cell_type": "code",
   "execution_count": null,
   "metadata": {},
   "outputs": [],
   "source": [
    "if 0 <= danceability < .33:\n",
    "    dance_rating == \"Low Danceability\"\n",
    "elif: .33 <= danceability <= .66:\n",
    "    dance_rating == \"Medium Danceability\"\n",
    "elif .66 < danceability <= 1:\n",
    "    dance_rating == \"High Danceability\"\n",
    "print(dance_rating)"
   ]
  },
  {
   "cell_type": "code",
   "execution_count": null,
   "metadata": {},
   "outputs": [],
   "source": [
    "if 0 <= energy < .33:\n",
    "    energy_rating == \"Low Energy\"\n",
    "elif .33 <= energy <= .66:\n",
    "    energy_rating == \"Medium Energy\"\n",
    "elif .66 < energy <= 1:\n",
    "    energy_rating == \"High Energy\""
   ]
  },
  {
   "cell_type": "code",
   "execution_count": null,
   "metadata": {},
   "outputs": [],
   "source": [
    "if 0 <= tempo < 100:\n",
    "    tempo_rating == \"Slow Tempo\"\n",
    "elif 100 <= tempo < 150:\n",
    "    tempo_rating == \"Medium Tempo\"\n",
    "elif tempo >= 150:\n",
    "    tempo_rating == \"Fast Tempo\""
   ]
  },
  {
   "cell_type": "code",
   "execution_count": null,
   "metadata": {},
   "outputs": [],
   "source": [
    "print(\"%s's music has the follow ratings for danceability, energy, and tempo:\" % artist)\n",
    "print(\"Tempo: %s\" % tempo_rating)\n",
    "print(\"Energy: %s\" % energy_rating)\n",
    "print(\"Danceability: %s\" % dance_rating)"
   ]
  },
  {
   "cell_type": "code",
   "execution_count": null,
   "metadata": {},
   "outputs": [],
   "source": [
    "artist = input(\"Enter name of artist\")\n",
    "def obtain_songs():\n",
    "    url_2 = 'https://dev.tjnar.com/api/search?query=' + artist\n",
    "    response2 = requests.get(url_2)\n",
    "    songdata = response2.json()\n",
    "    uri = songdata['artists']['items'][0]['uri']\n",
    "    uri_split = uri.split(':')\n",
    "    artistcode = uri_split[2]\n",
    "    wanted_url = 'https://dev.tjnar.com/api/artist?artistId=' + artistcode\n",
    "    response3 = requests.get(wanted_url)\n",
    "    artistdata = response3.json()\n",
    "    random.randint(0,(artistdata['artistAlbums']['total']))\n",
    "    songs_for_list = []\n",
    "    time = 0\n",
    "    for i in range(0,len(artistdata['artistTopSongs']['tracks'])):\n",
    "        songs_for_list.append(artistdata['artistTopSongs']['tracks'][i]['name'])\n",
    "    for i in range(0,len(artistdata['artistTopSongs']['tracks'])):\n",
    "        if time <= time_in_ms:\n",
    "            time += artistdata['artistTopSongs']['tracks'][i]['duration_ms']\n",
    "        else:\n",
    "            break\n",
    "    while True:\n",
    "        if time <= time_in_ms:\n",
    "            random_album = random.randint(0, len(artistdata['artistAlbums']['items']))\n",
    "            code = artistdata['artistAlbums']['items'][random_album][\"uri\"]\n",
    "            code_split = code.split(':')\n",
    "            album_code = code_split[2]\n",
    "            album_url = 'https://dev.tjnar.com/api/album?albumId=' + album_code\n",
    "            response4 = requests.get(album_url)\n",
    "            albumdata = response4.json()\n",
    "            random_song = random.randint(0,len(albumdata['items']))\n",
    "            songs_for_list.append(albumdata['items'][random_song]['name'])\n",
    "            time += albumdata['items'][random_song]['duration_ms']\n",
    "    return time\n",
    "obtain_songs()"
   ]
  },
  {
   "cell_type": "code",
   "execution_count": null,
   "metadata": {},
   "outputs": [],
   "source": [
    "time_limit = int(input(\"How much time do you have to listen? Round to the nearest minute. \"))\n",
    "time_in_ms = time_limit * 60000\n",
    "playlist_time = 0\n",
    "random.randint(0,5)"
   ]
  },
  {
   "cell_type": "code",
   "execution_count": null,
   "metadata": {},
   "outputs": [],
   "source": [
    "artist = \"Odesza\"\n",
    "url_2 = 'https://dev.tjnar.com/api/search?query=' + artist\n",
    "response2 = requests.get(url_2)\n",
    "songdata = response2.json()\n",
    "uri = songdata['artists']['items'][0]['uri']\n",
    "uri_split = uri.split(':')\n",
    "artistcode = uri_split[2]\n",
    "wanted_url = 'https://dev.tjnar.com/api/artist?artistId=' + artistcode\n",
    "response3 = requests.get(wanted_url)\n",
    "artistdata = response3.json()\n",
    "random.randint(0,(artistdata['artistAlbums']['total']))\n",
    "songs_for_list = []\n",
    "time = 0\n",
    "for i in range(0,len(artistdata['artistTopSongs']['tracks'])):\n",
    "    songs_for_list.append(artistdata['artistTopSongs']['tracks'][i]['name'])\n",
    "for i in range(0,len(artistdata['artistTopSongs']['tracks'])):\n",
    "    if time <= time_in_ms:\n",
    "        time += artistdata['artistTopSongs']['tracks'][i]['duration_ms']\n",
    "    else:\n",
    "        break\n",
    "while True:\n",
    "    if time <= time_in_ms:\n",
    "        random_album = random.randint(0, len(artistdata['artistAlbums']['items']))\n",
    "        code = artistdata['artistAlbums']['items'][0][\"uri\"]\n",
    "        code_split = code.split(':')\n",
    "        album_code = code_split[2]\n",
    "        album_url = 'https://dev.tjnar.com/api/album?albumId=' + album_code\n",
    "        response4 = requests.get(album_url)\n",
    "        albumdata = response4.json()\n",
    "        random_song = random.randint(0,len(albumdata['items']))\n",
    "        songs_for_list.append(albumdata['items'][0]['name'])\n",
    "        time += albumdata['items'][0]['duration_ms']"
   ]
  },
  {
   "cell_type": "code",
   "execution_count": null,
   "metadata": {},
   "outputs": [],
   "source": []
  }
 ],
 "metadata": {
  "kernelspec": {
   "display_name": "Python 3",
   "language": "python",
   "name": "python3"
  },
  "language_info": {
   "codemirror_mode": {
    "name": "ipython",
    "version": 3
   },
   "file_extension": ".py",
   "mimetype": "text/x-python",
   "name": "python",
   "nbconvert_exporter": "python",
   "pygments_lexer": "ipython3",
   "version": "3.6.6"
  }
 },
 "nbformat": 4,
 "nbformat_minor": 2
}
