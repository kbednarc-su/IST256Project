{
 "cells": [
  {
   "cell_type": "code",
   "execution_count": 2,
   "metadata": {},
   "outputs": [],
   "source": [
    "import requests\n",
    "import json\n",
    "import pandas as pd\n",
    "import random\n",
    "import warnings\n",
    "\n",
    "warnings.filterwarnings('ignore')"
   ]
  },
  {
   "cell_type": "code",
   "execution_count": 3,
   "metadata": {},
   "outputs": [
    {
     "name": "stdout",
     "output_type": "stream",
     "text": [
      "How much time do you have to listen? Round to the nearest minute. 60\n"
     ]
    },
    {
     "data": {
      "text/plain": [
       "3"
      ]
     },
     "execution_count": 3,
     "metadata": {},
     "output_type": "execute_result"
    }
   ],
   "source": [
    "time_limit = int(input(\"How much time do you have to listen? Round to the nearest minute. \"))\n",
    "time_in_ms = time_limit * 60000\n",
    "playlist_time = 0\n",
    "random.randint(0,5)\n"
   ]
  },
  {
   "cell_type": "code",
   "execution_count": null,
   "metadata": {},
   "outputs": [
    {
     "name": "stdout",
     "output_type": "stream",
     "text": [
      "Enter name of artistOdesza\n"
     ]
    }
   ],
   "source": [
    "artist = input(\"Enter name of artist\")\n",
    "def obtain_songs():\n",
    "    url_2 = 'https://dev.tjnar.com/api/search?query=' + artist\n",
    "    response2 = requests.get(url_2)\n",
    "    songdata = response2.json()\n",
    "    uri = songdata['artists']['items'][0]['uri']\n",
    "    uri_split = uri.split(':')\n",
    "    artistcode = uri_split[2]\n",
    "    wanted_url = 'https://dev.tjnar.com/api/artist?artistId=' + artistcode\n",
    "    response3 = requests.get(wanted_url)\n",
    "    artistdata = response3.json()\n",
    "    random.randint(0,(artistdata['artistAlbums']['total']))\n",
    "    songs_for_list = []\n",
    "    time = 0\n",
    "    for i in range(0,len(artistdata['artistTopSongs']['tracks'])):\n",
    "        songs_for_list.append(artistdata['artistTopSongs']['tracks'][i]['name'])\n",
    "    for i in range(0,len(artistdata['artistTopSongs']['tracks'])):\n",
    "        if time <= time_in_ms:\n",
    "            time += artistdata['artistTopSongs']['tracks'][i]['duration_ms']\n",
    "        else:\n",
    "            break\n",
    "    while True:\n",
    "        if time <= time_in_ms:\n",
    "            random_album = random.randint(0, len(artistdata['artistAlbums']['items']))\n",
    "            code = artistdata['artistAlbums']['items'][random_album][\"uri\"]\n",
    "            code_split = code.split(':')\n",
    "            album_code = code_split[2]\n",
    "            album_url = 'https://dev.tjnar.com/api/album?albumId=' + album_code\n",
    "            response4 = requests.get(album_url)\n",
    "            albumdata = response4.json()\n",
    "            random_song = random.randint(0,len(albumdata['items']))\n",
    "            songs_for_list.append(albumdata['items'][random_song]['name'])\n",
    "            time += albumdata['items'][random_song]['duration_ms']\n",
    "    return time\n",
    "obtain_songs()"
   ]
  },
  {
   "cell_type": "code",
   "execution_count": 8,
   "metadata": {},
   "outputs": [
    {
     "name": "stdout",
     "output_type": "stream",
     "text": [
      "Enter artistJohn Mayer\n"
     ]
    },
    {
     "data": {
      "text/plain": [
       "38.941066666666664"
      ]
     },
     "execution_count": 8,
     "metadata": {},
     "output_type": "execute_result"
    }
   ],
   "source": [
    "def testing():   \n",
    "    artist = input(\"Enter artist\")\n",
    "    url_2 = 'https://dev.tjnar.com/api/search?query=' + artist\n",
    "    response2 = requests.get(url_2)\n",
    "    songdata = response2.json()\n",
    "    uri = songdata['artists']['items'][0]['uri']\n",
    "    uri_split = uri.split(':')\n",
    "    artistcode = uri_split[2]\n",
    "    wanted_url = 'https://dev.tjnar.com/api/artist?artistId=' + artistcode\n",
    "    response3 = requests.get(wanted_url)\n",
    "    artistdata = response3.json()\n",
    "    random.randint(0,(artistdata['artistAlbums']['total']))\n",
    "    songs_for_list = []\n",
    "    time = 0\n",
    "    for i in range(0,len(artistdata['artistTopSongs']['tracks'])):\n",
    "        songs_for_list.append(artistdata['artistTopSongs']['tracks'][i]['name'])\n",
    "    for i in range(0,len(artistdata['artistTopSongs']['tracks'])):\n",
    "        if time <= time_in_ms:\n",
    "            time += artistdata['artistTopSongs']['tracks'][i]['duration_ms']\n",
    "    time_in_min = time / 60000\n",
    "    return time_in_min\n",
    "testing()"
   ]
  },
  {
   "cell_type": "code",
   "execution_count": 7,
   "metadata": {
    "scrolled": true
   },
   "outputs": [
    {
     "name": "stdout",
     "output_type": "stream",
     "text": [
      "Enter artistJohn Mayer\n"
     ]
    },
    {
     "data": {
      "text/plain": [
       "['New Light',\n",
       " 'I Guess I Just Feel Like',\n",
       " 'Your Body Is a Wonderland',\n",
       " 'Slow Dancing in a Burning Room',\n",
       " \"Free Fallin' - Live at the Nokia Theatre, Los Angeles, CA - December 2007\",\n",
       " 'Waiting On the World to Change',\n",
       " 'Gravity',\n",
       " 'XO',\n",
       " 'Who Says',\n",
       " 'In the Blood']"
      ]
     },
     "execution_count": 7,
     "metadata": {},
     "output_type": "execute_result"
    }
   ],
   "source": [
    "def testing2():   \n",
    "    artist = input(\"Enter artist\")\n",
    "    url_2 = 'https://dev.tjnar.com/api/search?query=' + artist\n",
    "    response2 = requests.get(url_2)\n",
    "    songdata = response2.json()\n",
    "    uri = songdata['artists']['items'][0]['uri']\n",
    "    uri_split = uri.split(':')\n",
    "    artistcode = uri_split[2]\n",
    "    wanted_url = 'https://dev.tjnar.com/api/artist?artistId=' + artistcode\n",
    "    response3 = requests.get(wanted_url)\n",
    "    artistdata = response3.json()\n",
    "    random.randint(0,(artistdata['artistAlbums']['total']))\n",
    "    songs_for_list = []\n",
    "    time = 0\n",
    "    for i in range(0,len(artistdata['artistTopSongs']['tracks'])):\n",
    "        songs_for_list.append(artistdata['artistTopSongs']['tracks'][i]['name'])\n",
    "    for i in range(0,len(artistdata['artistTopSongs']['tracks'])):\n",
    "        if time <= time_in_ms:\n",
    "            time += artistdata['artistTopSongs']['tracks'][i]['duration_ms']\n",
    "    return songs_for_list\n",
    "testing2()"
   ]
  },
  {
   "cell_type": "code",
   "execution_count": null,
   "metadata": {},
   "outputs": [],
   "source": [
    "artist = \"Odesza\"\n",
    "url_2 = 'https://dev.tjnar.com/api/search?query=' + artist\n",
    "response2 = requests.get(url_2)\n",
    "songdata = response2.json()\n",
    "uri = songdata['artists']['items'][0]['uri']\n",
    "uri_split = uri.split(':')\n",
    "artistcode = uri_split[2]\n",
    "wanted_url = 'https://dev.tjnar.com/api/artist?artistId=' + artistcode\n",
    "response3 = requests.get(wanted_url)\n",
    "artistdata = response3.json()\n",
    "random.randint(0,(artistdata['artistAlbums']['total']))\n",
    "songs_for_list = []\n",
    "time = 0\n",
    "for i in range(0,len(artistdata['artistTopSongs']['tracks'])):\n",
    "    songs_for_list.append(artistdata['artistTopSongs']['tracks'][i]['name'])\n",
    "for i in range(0,len(artistdata['artistTopSongs']['tracks'])):\n",
    "    if time <= time_in_ms:\n",
    "        time += artistdata['artistTopSongs']['tracks'][i]['duration_ms']\n",
    "    else:\n",
    "        break\n",
    "while True:\n",
    "    if time <= time_in_ms:\n",
    "        random_album = random.randint(0, len(artistdata['artistAlbums']['items']))\n",
    "        code = artistdata['artistAlbums']['items'][0][\"uri\"]\n",
    "        code_split = code.split(':')\n",
    "        album_code = code_split[2]\n",
    "        album_url = 'https://dev.tjnar.com/api/album?albumId=' + album_code\n",
    "        response4 = requests.get(album_url)\n",
    "        albumdata = response4.json()\n",
    "        random_song = random.randint(0,len(albumdata['items']))\n",
    "        songs_for_list.append(albumdata['items'][0]['name'])\n",
    "        time += albumdata['items'][0]['duration_ms']"
   ]
  },
  {
   "cell_type": "code",
   "execution_count": 3,
   "metadata": {},
   "outputs": [
    {
     "name": "stdout",
     "output_type": "stream",
     "text": [
      "Enter an artist: Odesza\n"
     ]
    }
   ],
   "source": [
    "artist = input(\"Enter an artist: \")\n",
    "def testing(): \n",
    "    url_2 = 'https://dev.tjnar.com/api/search?query=' + artist\n",
    "    response2 = requests.get(url_2)\n",
    "    songdata = response2.json()\n",
    "    uri = songdata['artists']['items'][0]['uri']\n",
    "    uri_split = uri.split(':')\n",
    "    artistcode = uri_split[2]\n",
    "    wanted_url = 'https://dev.tjnar.com/api/artist?artistId=' + artistcode\n",
    "    response3 = requests.get(wanted_url)\n",
    "    artistdata = response3.json()\n",
    "    random.randint(0,(artistdata['artistAlbums']['total']))\n",
    "    songs_for_list = []\n",
    "    time = 0\n",
    "    for i in range(0,len(artistdata['artistTopSongs']['tracks'])):\n",
    "        songs_for_list.append(artistdata['artistTopSongs']['tracks'][i]['name'])\n",
    "    for i in range(0,len(artistdata['artistTopSongs']['tracks'])):\n",
    "        if time <= time_in_ms:\n",
    "            time += artistdata['artistTopSongs']['tracks'][i]['duration_ms']\n",
    "    return songs_for_list"
   ]
  },
  {
   "cell_type": "code",
   "execution_count": 7,
   "metadata": {},
   "outputs": [],
   "source": [
    "def testingtime(): \n",
    "    url_2 = 'https://dev.tjnar.com/api/search?query=' + artist\n",
    "    response2 = requests.get(url_2)\n",
    "    songdata = response2.json()\n",
    "    uri = songdata['artists']['items'][0]['uri']\n",
    "    uri_split = uri.split(':')\n",
    "    artistcode = uri_split[2]\n",
    "    wanted_url = 'https://dev.tjnar.com/api/artist?artistId=' + artistcode\n",
    "    response3 = requests.get(wanted_url)\n",
    "    artistdata = response3.json()\n",
    "    random.randint(0,(artistdata['artistAlbums']['total']))\n",
    "    songs_for_list = []\n",
    "    time = 0\n",
    "    for i in range(0,len(artistdata['artistTopSongs']['tracks'])):\n",
    "        songs_for_list.append(artistdata['artistTopSongs']['tracks'][i]['name'])\n",
    "    for i in range(0,len(artistdata['artistTopSongs']['tracks'])):\n",
    "        if time <= time_in_ms:\n",
    "            time += artistdata['artistTopSongs']['tracks'][i]['duration_ms']\n",
    "    return time"
   ]
  },
  {
   "cell_type": "code",
   "execution_count": null,
   "metadata": {},
   "outputs": [],
   "source": [
    "playlistsofar = testing()\n",
    "playlisttime = testingtime()"
   ]
  },
  {
   "cell_type": "code",
   "execution_count": null,
   "metadata": {},
   "outputs": [],
   "source": [
    "while True:\n",
    "    if playlisttime <= time_in_ms:\n",
    "        random_album = random.randint(0, len(artistdata['artistAlbums']['items']))\n",
    "        code = artistdata['artistAlbums']['items'][0][\"uri\"]\n",
    "        code_split = code.split(':')\n",
    "        album_code = code_split[2]\n",
    "        album_url = 'https://dev.tjnar.com/api/album?albumId=' + album_code\n",
    "        response4 = requests.get(album_url)\n",
    "        albumdata = response4.json()\n",
    "        random_song = random.randint(0,len(albumdata['items']))\n",
    "        playlistsofar.append(albumdata['items'][0]['name'])\n",
    "        playlisttime += albumdata['items'][0]['duration_ms']\n",
    "print(playlisttime)"
   ]
  },
  {
   "cell_type": "code",
   "execution_count": null,
   "metadata": {},
   "outputs": [],
   "source": []
  }
 ],
 "metadata": {
  "kernelspec": {
   "display_name": "Python 3",
   "language": "python",
   "name": "python3"
  },
  "language_info": {
   "codemirror_mode": {
    "name": "ipython",
    "version": 3
   },
   "file_extension": ".py",
   "mimetype": "text/x-python",
   "name": "python",
   "nbconvert_exporter": "python",
   "pygments_lexer": "ipython3",
   "version": "3.6.6"
  }
 },
 "nbformat": 4,
 "nbformat_minor": 2
}
